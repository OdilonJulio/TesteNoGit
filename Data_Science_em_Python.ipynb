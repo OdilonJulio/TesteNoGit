{
  "nbformat": 4,
  "nbformat_minor": 0,
  "metadata": {
    "colab": {
      "name": "Data Science  em Python.ipynb",
      "version": "0.3.2",
      "provenance": [],
      "collapsed_sections": [],
      "include_colab_link": true
    },
    "kernelspec": {
      "name": "python3",
      "display_name": "Python 3"
    }
  },
  "cells": [
    {
      "cell_type": "markdown",
      "metadata": {
        "id": "view-in-github",
        "colab_type": "text"
      },
      "source": [
        "<a href=\"https://colab.research.google.com/github/OdilonJulio/TesteNoGit/blob/master/Data_Science_em_Python.ipynb\" target=\"_parent\"><img src=\"https://colab.research.google.com/assets/colab-badge.svg\" alt=\"Open In Colab\"/></a>"
      ]
    },
    {
      "metadata": {
        "id": "wwnQQFwLPO41",
        "colab_type": "code",
        "colab": {}
      },
      "cell_type": "code",
      "source": [
        "altura = [1.72, 1.56, 1.45, 1.55, 1.65, 1.70]\n",
        "peso = [86.5, 48.0, 56.0, 70.5, 80.2, 65.7]"
      ],
      "execution_count": 0,
      "outputs": []
    },
    {
      "metadata": {
        "id": "y1eYP6psQJuU",
        "colab_type": "code",
        "colab": {}
      },
      "cell_type": "code",
      "source": [
        "print(altura)\n",
        "print(peso)"
      ],
      "execution_count": 0,
      "outputs": []
    },
    {
      "metadata": {
        "id": "A0ZUtXVXQuG_",
        "colab_type": "code",
        "colab": {}
      },
      "cell_type": "code",
      "source": [
        "imc = peso / altura ** 2 "
      ],
      "execution_count": 0,
      "outputs": []
    },
    {
      "metadata": {
        "id": "PAOg-mUsQfXm",
        "colab_type": "code",
        "colab": {}
      },
      "cell_type": "code",
      "source": [
        "## import numpy ## Assim, ficaria o próprio nome da função\n",
        "\n",
        "import numpy as np ## Assim, podemos acionar a biblioteca \"numpy\" usando, apenas, \"np\", por exemplo.\n",
        "\n",
        "##  from numpy import array ## Se usado dessa forma, faz desnecessário o \"np.array\", bastando \"array\"."
      ],
      "execution_count": 0,
      "outputs": []
    },
    {
      "metadata": {
        "id": "bavq4A-rREvD",
        "colab_type": "code",
        "colab": {}
      },
      "cell_type": "code",
      "source": [
        "nAltura = np.array(altura)\n",
        "nPeso = np.array(peso)\n",
        "\n",
        "imcNew = nPeso / nAltura ** 2\n",
        "imcNew2 = nPeso / ( nAltura ** 2 )"
      ],
      "execution_count": 0,
      "outputs": []
    },
    {
      "metadata": {
        "id": "5UhUDgd9SoZL",
        "colab_type": "code",
        "colab": {
          "base_uri": "https://localhost:8080/",
          "height": 51
        },
        "outputId": "cecb1490-5ebc-4212-d1d9-534cdf7c93e8"
      },
      "cell_type": "code",
      "source": [
        "print(imcNew)\n",
        "print(imcNew2)"
      ],
      "execution_count": 15,
      "outputs": [
        {
          "output_type": "stream",
          "text": [
            "[29.23877772 19.72386588 26.63495838 29.34443288 29.45821855 22.73356401]\n",
            "[29.23877772 19.72386588 26.63495838 29.34443288 29.45821855 22.73356401]\n"
          ],
          "name": "stdout"
        }
      ]
    },
    {
      "metadata": {
        "id": "ydEneo66UueB",
        "colab_type": "code",
        "colab": {}
      },
      "cell_type": "code",
      "source": [
        "from random import uniform\n",
        "from random import randint\n",
        "\n",
        "texto = []\n",
        "\n",
        "def obterTexto():\n",
        "  for i in range(1, 140):\n",
        "    texto.append(str(uniform(1.50, 2.20)) + ';' +\n",
        "                 str(uniform(50, 120)) + ';' +\n",
        "                 str(randint(0, 10)) + '\\n')\n",
        "\n",
        "def gerarArquivo():\n",
        "  arq = 'peso.csv'\n",
        "  entrada = open(arq, '+w', encoding = 'UTF-8')\n",
        "  obterTexto()\n",
        "  entrada.writelines(texto)\n",
        "  entrada.close()\n",
        "  \n",
        "  \n",
        "  \n",
        "if __name__ == '__main__':\n",
        "  gerarArquivo()\n",
        " "
      ],
      "execution_count": 0,
      "outputs": []
    },
    {
      "metadata": {
        "id": "eKs4_aLKcHXT",
        "colab_type": "code",
        "colab": {}
      },
      "cell_type": "code",
      "source": [
        "import numpy as np\n",
        "\n",
        "altura, peso, forca = np.loadtxt('peso.csv', \n",
        "                                  delimiter = ';',\n",
        "                                  unpack = True,\n",
        "                                  dtype = 'float')"
      ],
      "execution_count": 0,
      "outputs": []
    },
    {
      "metadata": {
        "id": "fEtCXvAYc25a",
        "colab_type": "code",
        "colab": {}
      },
      "cell_type": "code",
      "source": [
        "print(altura, peso, forca)"
      ],
      "execution_count": 0,
      "outputs": []
    },
    {
      "metadata": {
        "id": "sIii-oKOdHQs",
        "colab_type": "code",
        "colab": {
          "base_uri": "https://localhost:8080/",
          "height": 156
        },
        "outputId": "04109a3e-611e-497b-c8f0-f058c3bb6466"
      },
      "cell_type": "code",
      "source": [
        "def tabela(valIMC):\n",
        "  if valIMC < 16:\n",
        "    return str(valIMC) + ':Magreza grave'\n",
        "  elif valIMC < 17:\n",
        "    return str(valIMC) + ':Magreza moderada'\n",
        "  elif valIMC < 18.5:\n",
        "    return str(valIMC) + ':Magreza leve'\n",
        "  elif valIMC < 25:\n",
        "    return str(valIMC) + ':Saudável'\n",
        "  elif valIMC < 30:\n",
        "    return str(valIMC) + ':Sobrepeso'\n",
        "  elif valIMC < 35:\n",
        "    return str(valIMC) + ':Obesidade Grau I'\n",
        "  elif valIMC < 40:\n",
        "    return str(valIMC) + ':Obesidade Grau II (severo)'\n",
        "  else:\n",
        "    return str(valIMC) + ':Obesidade Grau III (mórbida)'\n",
        "  \n",
        "\n",
        "imc = peso / altura ** 2\n",
        "\n",
        "print('Mín', tabela(np.amin(imc)))\n",
        "print('Máx', tabela(np.amax(imc)))\n",
        "print('Máx - Mín', tabela(np.ptp(imc)))\n",
        "\n",
        "print('Mediana', tabela(np.median(imc)))\n",
        "print('Média por Força(ponderada): ', tabela(np.average(imc)))\n",
        "print('Média Aritmética: ', tabela(np.mean(imc)))\n",
        "\n",
        "\n",
        "\n",
        "print('Desvio Padrão: ', np.std(imc))\n",
        "print('Variância: ', np.var(imc))\n",
        "\n"
      ],
      "execution_count": 40,
      "outputs": [
        {
          "output_type": "stream",
          "text": [
            "Mín 12.130506237839867:Magreza grave\n",
            "Máx 49.92219739403548:Obesidade Grau III (mórbida)\n",
            "Máx - Mín 37.79169115619561:Obesidade Grau II (severo)\n",
            "Mediana 24.877315996081222:Saudável\n",
            "Média por Força(ponderada):  26.130511531400835:Sobrepeso\n",
            "Média Aritmética:  26.130511531400835:Sobrepeso\n",
            "Desvio Padrão:  8.365452218578056\n",
            "Variância:  69.98079082131252\n"
          ],
          "name": "stdout"
        }
      ]
    },
    {
      "metadata": {
        "id": "EEirr4jJoo9e",
        "colab_type": "code",
        "colab": {
          "base_uri": "https://localhost:8080/",
          "height": 225
        },
        "outputId": "387c34df-6a1d-49da-ed64-748125cb86a7"
      },
      "cell_type": "code",
      "source": [
        "print(np.percentile(altura, q = range(0, 25)))\n",
        "\n",
        "print('=' * 80)\n",
        "\n",
        "print('Percentil')\n",
        "\n",
        "print('=' * 80)\n",
        "\n",
        "print('IMC Médio do 1º Percentil ', np.mean(np.percentile(imc, q = range(0,25))))\n",
        "print('IMC Médio do 2º Percentil ', np.mean(np.percentile(imc, q = range(26,50))))\n",
        "print('IMC Médio do 3º Percentil ', np.mean(np.percentile(imc, q = range(51,75))))\n",
        "print('IMC Médio do 4º Percentil ', np.mean(np.percentile(imc, q = range(76,100))))\n"
      ],
      "execution_count": 62,
      "outputs": [
        {
          "output_type": "stream",
          "text": [
            "[1.50200542 1.50415907 1.5065319  1.5095252  1.51337703 1.51692884\n",
            " 1.53021845 1.53864896 1.54356085 1.55923342 1.57796885 1.58115611\n",
            " 1.58999983 1.60329364 1.61723774 1.62021772 1.62380093 1.63576899\n",
            " 1.65056875 1.65372039 1.65983023 1.66203085 1.66895238 1.68413318\n",
            " 1.69191061]\n",
            "================================================================================\n",
            "Percentil\n",
            "================================================================================\n",
            "IMC Médio do 1º Percentil  16.71631853351427\n",
            "IMC Médio do 2º Percentil  22.759633042921052\n",
            "IMC Médio do 3º Percentil  27.31089967485069\n",
            "IMC Médio do 4º Percentil  37.358890888331985\n"
          ],
          "name": "stdout"
        }
      ]
    },
    {
      "metadata": {
        "id": "TWh0BDxbr_lD",
        "colab_type": "code",
        "colab": {}
      },
      "cell_type": "code",
      "source": [
        "import matplotlib.pyplot as plt\n",
        "\n",
        "y = []\n",
        "x = [1, 2, 3, 4]\n",
        "\n",
        "y.append(np.mean(np.percentile(imc, q = range(0,25))))\n",
        "y.append(np.mean(np.percentile(imc, q = range(26,50))))\n",
        "y.append(np.mean(np.percentile(imc, q = range(51,75))))\n",
        "y.append(np.mean(np.percentile(imc, q = range(76,100))))\n",
        "\n",
        "plt.plot(x,y, marker = 'o', color = 'magenta', linestyle = 'none')\n",
        "plt.title('Percentil dos IMC da População')\n",
        "plt.ylabel('Valor')\n",
        "plt.xlabel('Percentil')\n",
        "plt.show()\n"
      ],
      "execution_count": 0,
      "outputs": []
    },
    {
      "metadata": {
        "id": "VFaeqwXjtkW2",
        "colab_type": "code",
        "colab": {}
      },
      "cell_type": "code",
      "source": [
        "print('='*80)\n",
        "print('Exemplo de plotagem.')\n",
        "print('='*80)\n",
        "plt.plot(nAltura, nPeso, linestyle = 'none', marker = 'o', color = 'red')"
      ],
      "execution_count": 0,
      "outputs": []
    },
    {
      "metadata": {
        "id": "1g9z-Zgjv6pg",
        "colab_type": "code",
        "colab": {}
      },
      "cell_type": "code",
      "source": [
        "print('=' * 80)\n",
        "print('Construindo o Relatório')\n",
        "print('=' * 80)\n",
        "\n"
      ],
      "execution_count": 0,
      "outputs": []
    }
  ]
}